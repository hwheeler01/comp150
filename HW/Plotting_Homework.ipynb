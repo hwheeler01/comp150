{
 "cells": [
  {
   "cell_type": "markdown",
   "metadata": {},
   "source": [
    "## Plotting Homework\n",
    "### 60 points\n",
    "\n",
    "Edit the jupyter/ipython notebook file [Plotting_Homework.ipynb](http://hwheeler01.github.io/comp150/HW/Plotting_Homework.ipynb) to perform the requested tasks, showing all your required code.\n",
    "When finished, download as an HTML file and submit the following file to Sakai:\n",
    "\n",
    "`Plotting_Homework.html`\n",
    "\n",
    "Same instructions as before for `log.txt`:  Every individual should separately submit a personal file `log.txt`. This should be a plain text file with exactly this name. Your homework grade will not be recorded without this file!  Include in the file:\n",
    "\n",
    "1. Roughly how long you worked on this assignment beyond class time.\n",
    "2. Briefly, how it went for you, for instance what was the hardest part to get ...\n",
    "3. Who your partner was if you had one, or \"No partner\". \n",
    "4. If you had a partner, give an indication of how things went with your partner.  Was working together a good thing?\n",
    "\n",
    "If you worked with a consistent partner through the whole assignment, only one of you needs to submit the HTML file, but make sure each partner has their own copy! Each student should separately submit an independently written `log.txt` file."
   ]
  },
  {
   "cell_type": "markdown",
   "metadata": {},
   "source": [
    "### Problem 1. (6 pts)\n",
    "\n",
    "**Within the** `ggplot` **module, a small DataFrame called** `mpg` **is included. Print out the first five rows of this DataFrame and the summary statistics describing the DataFrame.**"
   ]
  },
  {
   "cell_type": "code",
   "execution_count": null,
   "metadata": {
    "collapsed": false
   },
   "outputs": [],
   "source": []
  },
  {
   "cell_type": "markdown",
   "metadata": {},
   "source": [
    "### Problem 2. (20 pts)\n",
    "\n",
    "**A. Make a scatterplot comparing the** `displ` **variable (x-axis) to the** `hwy` **variable (y-axis). Label the x-axis \"Engine displacement (liters)\" and the y-axis \"Highway miles per gallon\".**"
   ]
  },
  {
   "cell_type": "code",
   "execution_count": null,
   "metadata": {
    "collapsed": false
   },
   "outputs": [],
   "source": []
  },
  {
   "cell_type": "markdown",
   "metadata": {},
   "source": [
    "**B. Now make a new plot like the previous with the points colored according to the** `drv` **variable.**"
   ]
  },
  {
   "cell_type": "code",
   "execution_count": null,
   "metadata": {
    "collapsed": false
   },
   "outputs": [],
   "source": []
  },
  {
   "cell_type": "markdown",
   "metadata": {},
   "source": [
    "**C. Now split up the plot above into mini-plots, one for each** `class` **variable.**"
   ]
  },
  {
   "cell_type": "code",
   "execution_count": null,
   "metadata": {
    "collapsed": false
   },
   "outputs": [],
   "source": []
  },
  {
   "cell_type": "markdown",
   "metadata": {},
   "source": [
    "**D. Describe 3 trends you see in the data. For example, how does highway mpg between the compact and suv classes compare? Or what type of wheel drive do pickups tend to have?**"
   ]
  },
  {
   "cell_type": "code",
   "execution_count": null,
   "metadata": {
    "collapsed": true
   },
   "outputs": [],
   "source": []
  },
  {
   "cell_type": "markdown",
   "metadata": {},
   "source": [
    "### Problem 3. (6 pts)\n",
    "\n",
    "**Make a boxplot of the** `cty` **variable according to** `class`**. Which class has the highest median city mpg?**"
   ]
  },
  {
   "cell_type": "code",
   "execution_count": null,
   "metadata": {
    "collapsed": false
   },
   "outputs": [],
   "source": []
  },
  {
   "cell_type": "markdown",
   "metadata": {},
   "source": [
    "### Problem 4. (8 pts)\n",
    "\n",
    "**Using only the cars manufactured by Chevrolet, plot** `hwy` **(y-axis) vs.** `year` **(x-axis). Color the points according to** `model` **and make them visibly larger than the default setting.**\n",
    "\n",
    "**Which model and year has the highest highway mpg?**"
   ]
  },
  {
   "cell_type": "code",
   "execution_count": null,
   "metadata": {
    "collapsed": false
   },
   "outputs": [],
   "source": []
  },
  {
   "cell_type": "markdown",
   "metadata": {},
   "source": [
    "### Problem 5. (20 pts)\n",
    "\n",
    "**A. Make a multiple-histogram plot of** `hwy` **faceted by** `trans`**. Set the** `binwidth` **to 2.**"
   ]
  },
  {
   "cell_type": "code",
   "execution_count": null,
   "metadata": {
    "collapsed": false
   },
   "outputs": [],
   "source": []
  },
  {
   "cell_type": "markdown",
   "metadata": {},
   "source": [
    "**B. Edit the plot you just made so that it only includes the 4** `trans` **variables with the most cars. Also use ** `scale_color_brewer()` **or** `scale_color_manual()` **to change the color of each histogram from the default settings.**"
   ]
  },
  {
   "cell_type": "code",
   "execution_count": null,
   "metadata": {
    "collapsed": false
   },
   "outputs": [],
   "source": []
  },
  {
   "cell_type": "markdown",
   "metadata": {},
   "source": [
    "**C. Now make a density plot rather than a histogram using the same data from part B. Also, change the colors to a new palette you haven't yet used in this assignment.**"
   ]
  },
  {
   "cell_type": "code",
   "execution_count": null,
   "metadata": {
    "collapsed": false
   },
   "outputs": [],
   "source": []
  },
  {
   "cell_type": "markdown",
   "metadata": {},
   "source": [
    "**D. Based on this data, does automatic or manual transmission tend to get better highway gas mileage? Explain your reasoning.**"
   ]
  },
  {
   "cell_type": "code",
   "execution_count": null,
   "metadata": {
    "collapsed": true
   },
   "outputs": [],
   "source": []
  }
 ],
 "metadata": {
  "anaconda-cloud": {},
  "kernelspec": {
   "display_name": "Python [conda root]",
   "language": "python",
   "name": "conda-root-py"
  },
  "language_info": {
   "codemirror_mode": {
    "name": "ipython",
    "version": 3
   },
   "file_extension": ".py",
   "mimetype": "text/x-python",
   "name": "python",
   "nbconvert_exporter": "python",
   "pygments_lexer": "ipython3",
   "version": "3.5.2"
  }
 },
 "nbformat": 4,
 "nbformat_minor": 1
}
